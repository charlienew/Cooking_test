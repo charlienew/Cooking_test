{
 "cells": [
  {
   "cell_type": "markdown",
   "metadata": {},
   "source": [
    "# Tree-based Classification\n",
    "\n",
    "## Preprocessing"
   ]
  },
  {
   "cell_type": "code",
   "execution_count": 1,
   "metadata": {},
   "outputs": [
    {
     "data": {
      "text/html": [
       "<div>\n",
       "<style scoped>\n",
       "    .dataframe tbody tr th:only-of-type {\n",
       "        vertical-align: middle;\n",
       "    }\n",
       "\n",
       "    .dataframe tbody tr th {\n",
       "        vertical-align: top;\n",
       "    }\n",
       "\n",
       "    .dataframe thead th {\n",
       "        text-align: right;\n",
       "    }\n",
       "</style>\n",
       "<table border=\"1\" class=\"dataframe\">\n",
       "  <thead>\n",
       "    <tr style=\"text-align: right;\">\n",
       "      <th></th>\n",
       "      <th>cuisine</th>\n",
       "      <th>id</th>\n",
       "      <th>ingredients</th>\n",
       "    </tr>\n",
       "  </thead>\n",
       "  <tbody>\n",
       "    <tr>\n",
       "      <th>0</th>\n",
       "      <td>greek</td>\n",
       "      <td>10259</td>\n",
       "      <td>[romaine lettuce, black olives, grape tomatoes...</td>\n",
       "    </tr>\n",
       "    <tr>\n",
       "      <th>1</th>\n",
       "      <td>southern_us</td>\n",
       "      <td>25693</td>\n",
       "      <td>[plain flour, ground pepper, salt, tomatoes, g...</td>\n",
       "    </tr>\n",
       "    <tr>\n",
       "      <th>2</th>\n",
       "      <td>filipino</td>\n",
       "      <td>20130</td>\n",
       "      <td>[eggs, pepper, salt, mayonaise, cooking oil, g...</td>\n",
       "    </tr>\n",
       "    <tr>\n",
       "      <th>3</th>\n",
       "      <td>indian</td>\n",
       "      <td>22213</td>\n",
       "      <td>[water, vegetable oil, wheat, salt]</td>\n",
       "    </tr>\n",
       "    <tr>\n",
       "      <th>4</th>\n",
       "      <td>indian</td>\n",
       "      <td>13162</td>\n",
       "      <td>[black pepper, shallots, cornflour, cayenne pe...</td>\n",
       "    </tr>\n",
       "  </tbody>\n",
       "</table>\n",
       "</div>"
      ],
      "text/plain": [
       "       cuisine     id                                        ingredients\n",
       "0        greek  10259  [romaine lettuce, black olives, grape tomatoes...\n",
       "1  southern_us  25693  [plain flour, ground pepper, salt, tomatoes, g...\n",
       "2     filipino  20130  [eggs, pepper, salt, mayonaise, cooking oil, g...\n",
       "3       indian  22213                [water, vegetable oil, wheat, salt]\n",
       "4       indian  13162  [black pepper, shallots, cornflour, cayenne pe..."
      ]
     },
     "execution_count": 1,
     "metadata": {},
     "output_type": "execute_result"
    }
   ],
   "source": [
    "import pandas as pd \n",
    "import numpy as np\n",
    "import matplotlib.pyplot as plt\n",
    "%matplotlib inline\n",
    "plt.style.use('ggplot')\n",
    "\n",
    "\n",
    "traindf = pd.read_json('D:/data/train.json')\n",
    "traindf.head()"
   ]
  },
  {
   "cell_type": "code",
   "execution_count": 3,
   "metadata": {},
   "outputs": [
    {
     "data": {
      "image/png": "[encoded data removed]",
      "text/plain": [
       "<Figure size 432x288 with 1 Axes>"
      ]
     },
     "metadata": {},
     "output_type": "display_data"
    }
   ],
   "source": [
    "import seaborn as sns\n",
    "\n",
    "sns.countplot(y = 'cuisine', data = traindf)\n",
    "plt.title('Bar Plot of Cuisines', fontsize = 14)\n",
    "plt.show()"
   ]
  },
  {
   "cell_type": "code",
   "execution_count": 13,
   "metadata": {},
   "outputs": [
    {
     "name": "stdout",
     "output_type": "stream",
     "text": [
      "Prop\t Recipe\t Cuisine\n",
      "\n",
      "19.71 %\t 7838 \t italian\n",
      "16.19 %\t 6438 \t mexican\n",
      "10.86 %\t 4320 \t southern_us\n",
      "7.55 %\t 3003 \t indian\n",
      "6.72 %\t 2673 \t chinese\n",
      "6.65 %\t 2646 \t french\n",
      "3.89 %\t 1546 \t cajun_creole\n",
      "3.87 %\t 1539 \t thai\n",
      "3.58 %\t 1423 \t japanese\n",
      "2.95 %\t 1175 \t greek\n",
      "2.49 %\t 989 \t spanish\n",
      "2.09 %\t 830 \t korean\n",
      "2.07 %\t 825 \t vietnamese\n",
      "2.06 %\t 821 \t moroccan\n",
      "2.02 %\t 804 \t british\n",
      "1.9 %\t 755 \t filipino\n",
      "1.68 %\t 667 \t irish\n",
      "1.32 %\t 526 \t jamaican\n",
      "1.23 %\t 489 \t russian\n",
      "1.17 %\t 467 \t brazilian\n"
     ]
    }
   ],
   "source": [
    "from collections import Counter\n",
    "\n",
    "\n",
    "print('Prop\\t Recipe\\t Cuisine\\n')\n",
    "for cuisine in (Counter(traindf['cuisine']\n",
    "                       ).most_common()): print(round(cuisine[1]/traindf.cuisine.count()*100, 2), '%\\t', cuisine[1],'\\t',cuisine[0])"
   ]
  },
  {
   "cell_type": "code",
   "execution_count": 18,
   "metadata": {},
   "outputs": [
    {
     "name": "stdout",
     "output_type": "stream",
     "text": [
      "Total of 39774 recipes\n",
      "\n",
      "Total of 20 types of cuisines including ['greek', 'southern_us', 'filipino', 'indian', 'jamaican', 'spanish', 'italian', 'mexican', 'chinese', 'british', 'thai', 'vietnamese', 'cajun_creole', 'brazilian', 'french', 'japanese', 'irish', 'korean', 'moroccan', 'russian']\n",
      "\n"
     ]
    }
   ],
   "source": [
    "print('Total of %d recipes\\n'% len(traindf))\n",
    "print('Total of %d types of cuisines including %s\\n'% \\\n",
    "     (len(traindf['cuisine'].unique()), traindf['cuisine'].unique().tolist()))"
   ]
  },
  {
   "cell_type": "code",
   "execution_count": 19,
   "metadata": {},
   "outputs": [
    {
     "name": "stdout",
     "output_type": "stream",
     "text": [
      "Total of 6714 uique ingredients\n"
     ]
    }
   ],
   "source": [
    "ingredients_list_tr = []\n",
    "for line in traindf['ingredients']:\n",
    "    ingredients_list_tr.append(line)\n",
    "    \n",
    "ingredients_set_tr = set()\n",
    "for i in range(len(ingredients_list_tr)):\n",
    "    for ingredient in ingredients_list_tr[i]:\n",
    "        ingredients_set_tr.add(ingredient)\n",
    "    \n",
    "print('Total of %d uique ingredients'% len(ingredients_set_tr))"
   ]
  },
  {
   "cell_type": "code",
   "execution_count": 20,
   "metadata": {},
   "outputs": [
    {
     "name": "stdout",
     "output_type": "stream",
     "text": [
      "Most commonly use ingredients:\n",
      "\n",
      "('salt', 18049)\n",
      "('onions', 7972)\n",
      "('olive oil', 7972)\n",
      "('water', 7457)\n",
      "('garlic', 7380)\n",
      "('sugar', 6434)\n",
      "('garlic cloves', 6237)\n",
      "('butter', 4848)\n",
      "('ground black pepper', 4785)\n",
      "('all-purpose flour', 4632)\n",
      "('pepper', 4438)\n",
      "('vegetable oil', 4385)\n",
      "('eggs', 3388)\n",
      "('soy sauce', 3296)\n",
      "('kosher salt', 3113)\n",
      "('green onions', 3078)\n",
      "('tomatoes', 3058)\n",
      "('large eggs', 2948)\n",
      "('carrots', 2814)\n",
      "('unsalted butter', 2782)\n"
     ]
    }
   ],
   "source": [
    "total_usage_list_tr = []\n",
    "for i in range(len(ingredients_list_tr)):\n",
    "    for ingredient in ingredients_list_tr[i]:\n",
    "        total_usage_list_tr.append(ingredient)\n",
    "print('Most commonly use ingredients:\\n')\n",
    "for i in range(20):\n",
    "    print(Counter(total_usage_list_tr).most_common(20)[i])"
   ]
  },
  {
   "cell_type": "markdown",
   "metadata": {},
   "source": [
    "### Regular Expression & Lemmatizer"
   ]
  },
  {
   "cell_type": "code",
   "execution_count": 23,
   "metadata": {},
   "outputs": [],
   "source": [
    "import re\n",
    "\n",
    "\n",
    "def sub_match(pattern, sub_pattern, ingredients):\n",
    "    for i in ingredients.index.values:\n",
    "        for j in range(len(ingredients[i])):\n",
    "            ingredients[i][j] = re.sub(pattern, sub_pattern, ingredients[i][j].strip())\n",
    "            ingredients[i][j] = ingredients[i][j].strip()\n",
    "    re.purge()\n",
    "    return ingredients\n",
    "\n",
    "def regex_sub_match(series):\n",
    "    # remove all units\n",
    "    p0 = re.compile(r'\\s*(oz|ounc|ounce|pound|lb|inch|inches|kg|to)\\s*[^a-z]')\n",
    "    series = sub_match(p0, ' ', series)\n",
    "    # remove all digits\n",
    "    p1 = re.compile(r'\\d+')\n",
    "    series = sub_match(p1, ' ', series)\n",
    "    # remove all the non-letter characters\n",
    "    p2 = re.compile('[^\\w]')\n",
    "    series = sub_match(p2, ' ', series)\n",
    "    return series"
   ]
  },
  {
   "cell_type": "code",
   "execution_count": 26,
   "metadata": {},
   "outputs": [
    {
     "data": {
      "text/plain": [
       "id\n",
       "10259    [romaine lettuce, black olives, grape tomatoes...\n",
       "25693    [plain flour, ground pepper, salt, tomatoes, g...\n",
       "20130    [eggs, pepper, salt, mayonaise, cooking oil, g...\n",
       "22213                  [water, vegetable oil, wheat, salt]\n",
       "13162    [black pepper, shallots, cornflour, cayenne pe...\n",
       "6602     [plain flour, sugar, butter, eggs, fresh ginge...\n",
       "42779    [olive oil, salt, medium shrimp, pepper, garli...\n",
       "3735     [sugar, pistachio nuts, white almond bark, flo...\n",
       "16903    [olive oil, purple onion, fresh pineapple, por...\n",
       "12734    [chopped tomatoes, fresh basil, garlic, extra ...\n",
       "5875     [pimentos, sweet pepper, dried oregano, olive ...\n",
       "45887    [low sodium soy sauce, fresh ginger, dry musta...\n",
       "2698     [Italian parsley leaves, walnuts, hot red pepp...\n",
       "41995    [ground cinnamon, fresh cilantro, chili powder...\n",
       "31908    [fresh parmesan cheese, butter, all purpose fl...\n",
       "24717    [tumeric, vegetable stock, tomatoes, garam mas...\n",
       "34466    [greek yogurt, lemon curd, confectioners sugar...\n",
       "1420     [italian seasoning, broiler fryer chicken, may...\n",
       "2941      [sugar, hot chili, asian fish sauce, lime juice]\n",
       "8152     [soy sauce, vegetable oil, red bell pepper, ch...\n",
       "13121    [pork loin, roasted peanuts, chopped cilantro ...\n",
       "40523    [roma tomatoes, kosher salt, purple onion, jal...\n",
       "40989    [low fat mayonnaise, pepper, salt, baking pota...\n",
       "29630    [sesame seeds, red pepper, yellow peppers, wat...\n",
       "49136    [marinara sauce, flat leaf parsley, olive oil,...\n",
       "26705    [sugar, lo mein noodles, salt, chicken broth, ...\n",
       "27976    [herbs, lemon juice, fresh tomatoes, paprika, ...\n",
       "22087    [ground black pepper, butter, sliced mushrooms...\n",
       "9197     [green bell pepper, egg roll wrappers, sweet a...\n",
       "1299     [flour tortillas, cheese, breakfast sausages, ...\n",
       "                               ...                        \n",
       "5680     [extra virgin olive oil, oregano, potatoes, ga...\n",
       "5511     [quinoa, extra virgin olive oil, fresh thyme l...\n",
       "32051    [clove, bay leaves, ginger, chopped cilantro, ...\n",
       "5119     [water, sugar, grated lemon zest, butter, pitt...\n",
       "9526     [sea salt, pizza doughs, all purpose flour, co...\n",
       "45599    [kosher salt, minced onion, tortilla chips, su...\n",
       "49670    [ground black pepper, chicken breasts, salsa, ...\n",
       "30735    [olive oil, cayenne pepper, chopped cilantro f...\n",
       "5911     [self rising flour, milk, white sugar, butter,...\n",
       "33294    [rosemary sprigs, lemon zest, garlic cloves, g...\n",
       "27082    [jasmine rice, bay leaves, sticky rice, rotiss...\n",
       "36337    [mint leaves, cilantro leaves, ghee, tomatoes,...\n",
       "15508    [vegetable oil, cinnamon sticks, water, all pu...\n",
       "34331    [red bell pepper, garlic cloves, extra virgin ...\n",
       "47387    [milk, salt, ground cayenne pepper, ground lam...\n",
       "12153    [red chili peppers, sea salt, onions, water, c...\n",
       "41840    [butter, large eggs, cornmeal, baking powder, ...\n",
       "6487     [honey, chicken breast halves, cilantro leaves...\n",
       "26646    [curry powder, salt, chicken, water, vegetable...\n",
       "44798    [fettuccine pasta, low fat cream cheese, garli...\n",
       "8089     [chili powder, worcestershire sauce, celery, r...\n",
       "6153     [coconut, unsweetened coconut milk, mint leave...\n",
       "25557    [rutabaga, ham, thick cut bacon, potatoes, fre...\n",
       "24348    [low fat sour cream, grated parmesan cheese, s...\n",
       "7377     [shredded cheddar cheese, crushed cheese crack...\n",
       "29109    [light brown sugar, granulated sugar, butter, ...\n",
       "11462    [KRAFT Zesty Italian Dressing, purple onion, b...\n",
       "2238     [eggs, citrus fruit, raisins, sourdough starte...\n",
       "41882    [boneless chicken skinless thigh, minced garli...\n",
       "2362     [green chile, jalapeno chilies, onions, ground...\n",
       "Name: ingredients, Length: 39774, dtype: object"
      ]
     },
     "execution_count": 26,
     "metadata": {},
     "output_type": "execute_result"
    }
   ],
   "source": [
    "traindf = traindf.set_index('id')\n",
    "ingredients_list = traindf['ingredients']\n",
    "ingredients_list = regex_sub_match(ingredients_list)\n",
    "ingredients_list"
   ]
  },
  {
   "cell_type": "code",
   "execution_count": 27,
   "metadata": {},
   "outputs": [],
   "source": [
    "from nltk.stem.wordnet import WordNetLemmatizer\n",
    "from nltk import word_tokenize as tk\n",
    "\n",
    "\n",
    "lemmatizer = WordNetLemmatizer()\n",
    "\n",
    "# remove all the words that are not nouns -- keep the essential ingredients\n",
    "def lemma(series):\n",
    "    for i in series.index.values:\n",
    "        for j in range(len(series[i])):\n",
    "            # get rid of all extra spaces\n",
    "            series[i][j] = series[i][j].strip()\n",
    "            # Tokenize a string to split off punctuation other than periods\n",
    "            token = tk(series[i][j])\n",
    "            # set all the plural nouns into singular nouns\n",
    "            for k in range(len(token)):\n",
    "                token[k] = lemmatizer.lemmatize(token[k])\n",
    "            token = ' '.join(token)\n",
    "            # write them back\n",
    "            series[i][j] = token\n",
    "    return series"
   ]
  },
  {
   "cell_type": "code",
   "execution_count": 28,
   "metadata": {},
   "outputs": [],
   "source": [
    "ingredients_list = lemma(ingredients_list)"
   ]
  },
  {
   "cell_type": "code",
   "execution_count": 29,
   "metadata": {},
   "outputs": [],
   "source": [
    "traindf['ingredients_cleaned'] = ingredients_list\n",
    "traindf['ingredients_cleaned_string'] = [' '.join(line).strip() for line in traindf['ingredients_cleaned']]"
   ]
  },
  {
   "cell_type": "code",
   "execution_count": 30,
   "metadata": {},
   "outputs": [
    {
     "data": {
      "text/html": [
       "<div>\n",
       "<style scoped>\n",
       "    .dataframe tbody tr th:only-of-type {\n",
       "        vertical-align: middle;\n",
       "    }\n",
       "\n",
       "    .dataframe tbody tr th {\n",
       "        vertical-align: top;\n",
       "    }\n",
       "\n",
       "    .dataframe thead th {\n",
       "        text-align: right;\n",
       "    }\n",
       "</style>\n",
       "<table border=\"1\" class=\"dataframe\">\n",
       "  <thead>\n",
       "    <tr style=\"text-align: right;\">\n",
       "      <th></th>\n",
       "      <th>cuisine</th>\n",
       "      <th>ingredients</th>\n",
       "      <th>ingredients_cleaned</th>\n",
       "      <th>ingredients_cleaned_string</th>\n",
       "    </tr>\n",
       "    <tr>\n",
       "      <th>id</th>\n",
       "      <th></th>\n",
       "      <th></th>\n",
       "      <th></th>\n",
       "      <th></th>\n",
       "    </tr>\n",
       "  </thead>\n",
       "  <tbody>\n",
       "    <tr>\n",
       "      <th>44540</th>\n",
       "      <td>vietnamese</td>\n",
       "      <td>[fish sauce, shallot, coconut, garlic clove, p...</td>\n",
       "      <td>[fish sauce, shallot, coconut, garlic clove, p...</td>\n",
       "      <td>fish sauce shallot coconut garlic clove pork b...</td>\n",
       "    </tr>\n",
       "    <tr>\n",
       "      <th>44754</th>\n",
       "      <td>southern_us</td>\n",
       "      <td>[sugar, salt, baking powder, unsalted butter, ...</td>\n",
       "      <td>[sugar, salt, baking powder, unsalted butter, ...</td>\n",
       "      <td>sugar salt baking powder unsalted butter all p...</td>\n",
       "    </tr>\n",
       "    <tr>\n",
       "      <th>20537</th>\n",
       "      <td>italian</td>\n",
       "      <td>[cremini mushroom, large egg, linguine, part s...</td>\n",
       "      <td>[cremini mushroom, large egg, linguine, part s...</td>\n",
       "      <td>cremini mushroom large egg linguine part skim ...</td>\n",
       "    </tr>\n",
       "    <tr>\n",
       "      <th>7715</th>\n",
       "      <td>southern_us</td>\n",
       "      <td>[ground ginger, water, large egg, salt, molass...</td>\n",
       "      <td>[ground ginger, water, large egg, salt, molass...</td>\n",
       "      <td>ground ginger water large egg salt molasses ba...</td>\n",
       "    </tr>\n",
       "    <tr>\n",
       "      <th>11075</th>\n",
       "      <td>southern_us</td>\n",
       "      <td>[bourbon whiskey, fresh basil, fresh basil lea...</td>\n",
       "      <td>[bourbon whiskey, fresh basil, fresh basil lea...</td>\n",
       "      <td>bourbon whiskey fresh basil fresh basil leaf s...</td>\n",
       "    </tr>\n",
       "    <tr>\n",
       "      <th>16931</th>\n",
       "      <td>southern_us</td>\n",
       "      <td>[sugar, peach, evaporated milk, self raising f...</td>\n",
       "      <td>[sugar, peach, evaporated milk, self raising f...</td>\n",
       "      <td>sugar peach evaporated milk self raising flour...</td>\n",
       "    </tr>\n",
       "    <tr>\n",
       "      <th>12847</th>\n",
       "      <td>mexican</td>\n",
       "      <td>[fresh cilantro, fresh lime juice, coarse salt...</td>\n",
       "      <td>[fresh cilantro, fresh lime juice, coarse salt...</td>\n",
       "      <td>fresh cilantro fresh lime juice coarse salt ol...</td>\n",
       "    </tr>\n",
       "    <tr>\n",
       "      <th>33535</th>\n",
       "      <td>mexican</td>\n",
       "      <td>[tomatillo, california chile, whole chicken, s...</td>\n",
       "      <td>[tomatillo, california chile, whole chicken, s...</td>\n",
       "      <td>tomatillo california chile whole chicken salt ...</td>\n",
       "    </tr>\n",
       "    <tr>\n",
       "      <th>28059</th>\n",
       "      <td>cajun_creole</td>\n",
       "      <td>[chervil, fennel, cognac, large shrimp, water,...</td>\n",
       "      <td>[chervil, fennel, cognac, large shrimp, water,...</td>\n",
       "      <td>chervil fennel cognac large shrimp water coars...</td>\n",
       "    </tr>\n",
       "    <tr>\n",
       "      <th>12221</th>\n",
       "      <td>indian</td>\n",
       "      <td>[coriander seed, salt, peanut oil, chopped cil...</td>\n",
       "      <td>[coriander seed, salt, peanut oil, chopped cil...</td>\n",
       "      <td>coriander seed salt peanut oil chopped cilantr...</td>\n",
       "    </tr>\n",
       "  </tbody>\n",
       "</table>\n",
       "</div>"
      ],
      "text/plain": [
       "            cuisine                                        ingredients  \\\n",
       "id                                                                       \n",
       "44540    vietnamese  [fish sauce, shallot, coconut, garlic clove, p...   \n",
       "44754   southern_us  [sugar, salt, baking powder, unsalted butter, ...   \n",
       "20537       italian  [cremini mushroom, large egg, linguine, part s...   \n",
       "7715    southern_us  [ground ginger, water, large egg, salt, molass...   \n",
       "11075   southern_us  [bourbon whiskey, fresh basil, fresh basil lea...   \n",
       "16931   southern_us  [sugar, peach, evaporated milk, self raising f...   \n",
       "12847       mexican  [fresh cilantro, fresh lime juice, coarse salt...   \n",
       "33535       mexican  [tomatillo, california chile, whole chicken, s...   \n",
       "28059  cajun_creole  [chervil, fennel, cognac, large shrimp, water,...   \n",
       "12221        indian  [coriander seed, salt, peanut oil, chopped cil...   \n",
       "\n",
       "                                     ingredients_cleaned  \\\n",
       "id                                                         \n",
       "44540  [fish sauce, shallot, coconut, garlic clove, p...   \n",
       "44754  [sugar, salt, baking powder, unsalted butter, ...   \n",
       "20537  [cremini mushroom, large egg, linguine, part s...   \n",
       "7715   [ground ginger, water, large egg, salt, molass...   \n",
       "11075  [bourbon whiskey, fresh basil, fresh basil lea...   \n",
       "16931  [sugar, peach, evaporated milk, self raising f...   \n",
       "12847  [fresh cilantro, fresh lime juice, coarse salt...   \n",
       "33535  [tomatillo, california chile, whole chicken, s...   \n",
       "28059  [chervil, fennel, cognac, large shrimp, water,...   \n",
       "12221  [coriander seed, salt, peanut oil, chopped cil...   \n",
       "\n",
       "                              ingredients_cleaned_string  \n",
       "id                                                        \n",
       "44540  fish sauce shallot coconut garlic clove pork b...  \n",
       "44754  sugar salt baking powder unsalted butter all p...  \n",
       "20537  cremini mushroom large egg linguine part skim ...  \n",
       "7715   ground ginger water large egg salt molasses ba...  \n",
       "11075  bourbon whiskey fresh basil fresh basil leaf s...  \n",
       "16931  sugar peach evaporated milk self raising flour...  \n",
       "12847  fresh cilantro fresh lime juice coarse salt ol...  \n",
       "33535  tomatillo california chile whole chicken salt ...  \n",
       "28059  chervil fennel cognac large shrimp water coars...  \n",
       "12221  coriander seed salt peanut oil chopped cilantr...  "
      ]
     },
     "execution_count": 30,
     "metadata": {},
     "output_type": "execute_result"
    }
   ],
   "source": [
    "traindf.sample(10)"
   ]
  },
  {
   "cell_type": "code",
   "execution_count": 31,
   "metadata": {},
   "outputs": [],
   "source": [
    "traindf.to_csv('D:/data/train_cleaned.csv')"
   ]
  },
  {
   "cell_type": "markdown",
   "metadata": {},
   "source": [
    "## Preparation for Modeling & Embedding"
   ]
  },
  {
   "cell_type": "code",
   "execution_count": 34,
   "metadata": {},
   "outputs": [
    {
     "name": "stdout",
     "output_type": "stream",
     "text": [
      "(33799, 2)\n",
      "(5975, 2)\n"
     ]
    }
   ],
   "source": [
    "from sklearn.feature_extraction.text import TfidfVectorizer\n",
    "from sklearn.model_selection import train_test_split\n",
    "from sklearn.preprocessing import LabelEncoder as LE\n",
    "\n",
    "\n",
    "rawdf_tr = pd.read_csv('D:/data/train_cleaned.csv')\n",
    "def tt_split(cuisine):\n",
    "    cuisine_population = rawdf_tr.loc[(rawdf_tr['cuisine'] == cuisine)].index.values\n",
    "    train, test = train_test_split(cuisine_population, test_size=0.15, random_state=0)\n",
    "    train = train.tolist()\n",
    "    test = test.tolist()\n",
    "    return train, test\n",
    "\n",
    "cuisine_list = traindf['cuisine'].unique().tolist()\n",
    "\n",
    "ix_train = [] # 85% for training (and validation)\n",
    "ix_test = [] # 15% for hold-out test\n",
    "for _ in cuisine_list:\n",
    "    temp_train, temp_test = tt_split(_)\n",
    "    ix_train += temp_train\n",
    "    ix_test += temp_test\n",
    "    \n",
    "# DataFrame for training and validation\n",
    "traindf = rawdf_tr[['cuisine', 'ingredients_cleaned_string']].loc[ix_train].reset_index(drop=True)\n",
    "print(traindf.shape)\n",
    "testdf = rawdf_tr[['cuisine', 'ingredients_cleaned_string']].loc[ix_test].reset_index(drop=True)\n",
    "print(testdf.shape)\n",
    "\n",
    "\n",
    "X_train_ls = traindf['ingredients_cleaned_string']\n",
    "vectorizertr = TfidfVectorizer(stop_words='english', analyzer=\"word\", max_df=0.65, min_df=2, binary=True)\n",
    "X_train = vectorizertr.fit_transform(X_train_ls)\n",
    "\n",
    "y_train = traindf['cuisine']\n",
    "# for xgboost the labels need to be labeled with encoder\n",
    "le = LE()\n",
    "y_train_ec = le.fit_transform(y_train)\n",
    "# for deep learning\n",
    "y_train_1h = pd.get_dummies(y_train_ec)\n",
    "\n",
    "X_test_ls = testdf['ingredients_cleaned_string']\n",
    "vectorizerts = TfidfVectorizer(stop_words='english')\n",
    "X_test = vectorizertr.transform(X_test_ls)\n",
    "\n",
    "# y_true\n",
    "y_true = testdf['cuisine']\n",
    "y_true_ec = le.fit_transform(y_true)\n",
    "# for deep learning\n",
    "y_true_1h = pd.get_dummies(y_true_ec)"
   ]
  },
  {
   "cell_type": "code",
   "execution_count": 35,
   "metadata": {},
   "outputs": [
    {
     "data": {
      "text/plain": [
       "(33799, 2182)"
      ]
     },
     "execution_count": 35,
     "metadata": {},
     "output_type": "execute_result"
    }
   ],
   "source": [
    "X_train.shape"
   ]
  },
  {
   "cell_type": "code",
   "execution_count": 37,
   "metadata": {},
   "outputs": [
    {
     "data": {
      "text/plain": [
       "(33799, 20)"
      ]
     },
     "execution_count": 37,
     "metadata": {},
     "output_type": "execute_result"
    }
   ],
   "source": [
    "y_train_1h.shape"
   ]
  },
  {
   "cell_type": "markdown",
   "metadata": {},
   "source": [
    "## Modeling Using Tree-based Algorithms\n",
    "\n",
    "### Decision Tree Classifier"
   ]
  },
  {
   "cell_type": "code",
   "execution_count": 42,
   "metadata": {},
   "outputs": [
    {
     "name": "stdout",
     "output_type": "stream",
     "text": [
      "             precision    recall  f1-score   support\n",
      "\n",
      "          0       0.47      0.39      0.43        71\n",
      "          1       0.25      0.13      0.17       121\n",
      "          2       0.62      0.56      0.59       232\n",
      "          3       0.62      0.69      0.65       401\n",
      "          4       0.37      0.30      0.33       114\n",
      "          5       0.38      0.48      0.42       397\n",
      "          6       0.53      0.45      0.49       177\n",
      "          7       0.77      0.72      0.74       451\n",
      "          8       0.47      0.29      0.36       101\n",
      "          9       0.69      0.78      0.73      1176\n",
      "         10       0.66      0.39      0.49        79\n",
      "         11       0.57      0.54      0.55       214\n",
      "         12       0.60      0.39      0.47       125\n",
      "         13       0.78      0.82      0.80       966\n",
      "         14       0.54      0.43      0.48       124\n",
      "         15       0.28      0.16      0.21        74\n",
      "         16       0.53      0.60      0.56       648\n",
      "         17       0.51      0.30      0.37       149\n",
      "         18       0.58      0.65      0.61       231\n",
      "         19       0.45      0.23      0.31       124\n",
      "\n",
      "avg / total       0.61      0.62      0.61      5975\n",
      "\n"
     ]
    }
   ],
   "source": [
    "from sklearn import tree\n",
    "from sklearn.metrics import classification_report\n",
    "\n",
    "clf = tree.DecisionTreeClassifier(min_samples_split = 200)\n",
    "clf.fit(X_train, y_train_ec)\n",
    "y_pred = clf.predict(X_test)\n",
    "\n",
    "print(classification_report(y_true_ec, y_pred))"
   ]
  },
  {
   "cell_type": "markdown",
   "metadata": {},
   "source": [
    "### Radom Forest Classifier"
   ]
  },
  {
   "cell_type": "code",
   "execution_count": 43,
   "metadata": {},
   "outputs": [
    {
     "data": {
      "text/plain": [
       "RandomForestClassifier(bootstrap=True, class_weight=None, criterion='gini',\n",
       "            max_depth=None, max_features='auto', max_leaf_nodes=None,\n",
       "            min_impurity_decrease=0.0, min_impurity_split=None,\n",
       "            min_samples_leaf=1, min_samples_split=100,\n",
       "            min_weight_fraction_leaf=0.0, n_estimators=1000, n_jobs=2,\n",
       "            oob_score=False, random_state=None, verbose=0,\n",
       "            warm_start=False)"
      ]
     },
     "execution_count": 43,
     "metadata": {},
     "output_type": "execute_result"
    }
   ],
   "source": [
    "from sklearn.ensemble import RandomForestClassifier\n",
    "\n",
    "\n",
    "rfclf = RandomForestClassifier(n_estimators = 1000, min_samples_split = 100, n_jobs = 2)\n",
    "\n",
    "rfclf.fit(X_train, y_train_ec)"
   ]
  },
  {
   "cell_type": "code",
   "execution_count": 44,
   "metadata": {},
   "outputs": [
    {
     "name": "stdout",
     "output_type": "stream",
     "text": [
      "             precision    recall  f1-score   support\n",
      "\n",
      "          0       0.79      0.31      0.44        71\n",
      "          1       0.90      0.07      0.14       121\n",
      "          2       0.82      0.62      0.71       232\n",
      "          3       0.66      0.88      0.76       401\n",
      "          4       0.72      0.25      0.37       114\n",
      "          5       0.57      0.45      0.50       397\n",
      "          6       0.91      0.44      0.59       177\n",
      "          7       0.81      0.92      0.86       451\n",
      "          8       0.78      0.14      0.24       101\n",
      "          9       0.65      0.92      0.77      1176\n",
      "         10       0.97      0.43      0.60        79\n",
      "         11       0.91      0.62      0.74       214\n",
      "         12       0.94      0.53      0.68       125\n",
      "         13       0.83      0.93      0.88       966\n",
      "         14       0.87      0.56      0.68       124\n",
      "         15       0.81      0.18      0.29        74\n",
      "         16       0.58      0.77      0.66       648\n",
      "         17       0.85      0.19      0.31       149\n",
      "         18       0.73      0.77      0.75       231\n",
      "         19       0.80      0.23      0.35       124\n",
      "\n",
      "avg / total       0.74      0.72      0.69      5975\n",
      "\n"
     ]
    }
   ],
   "source": [
    "y_pred = rfclf.predict(X_test)\n",
    "\n",
    "print(classification_report(y_true_ec, y_pred))"
   ]
  },
  {
   "cell_type": "markdown",
   "metadata": {},
   "source": [
    "### XGBoost Classifier"
   ]
  },
  {
   "cell_type": "code",
   "execution_count": 45,
   "metadata": {},
   "outputs": [],
   "source": [
    "import os\n",
    "\n",
    "mingw_path = 'C:\\\\Program Files\\\\mingw-w64\\\\x86_64-8.1.0-posix-seh-rt_v6-rev0\\\\mingw64\\\\bin'\n",
    "\n",
    "os.environ['PATH'] = mingw_path + ';' + os.environ['PATH']\n",
    "\n",
    "import xgboost as xgb\n",
    "from xgboost.sklearn import XGBClassifier\n",
    "\n",
    "\n",
    "XGBmodel = XGBClassifier(booster='gbtree', n_jobs=2, objective='binary:logistic', gamma=0.3, colsample_bytree=0.2,\n",
    "                         learning_rate=0.05, max_depth=4, min_child_weight=3, n_estimators=1333, subsample=0.5)"
   ]
  },
  {
   "cell_type": "code",
   "execution_count": 46,
   "metadata": {},
   "outputs": [
    {
     "data": {
      "text/plain": [
       "XGBClassifier(base_score=0.5, booster='gbtree', colsample_bylevel=1,\n",
       "       colsample_bytree=0.2, gamma=0.3, learning_rate=0.05,\n",
       "       max_delta_step=0, max_depth=4, min_child_weight=3, missing=None,\n",
       "       n_estimators=1333, n_jobs=2, nthread=None,\n",
       "       objective='multi:softprob', random_state=0, reg_alpha=0,\n",
       "       reg_lambda=1, scale_pos_weight=1, seed=None, silent=True,\n",
       "       subsample=0.5)"
      ]
     },
     "execution_count": 46,
     "metadata": {},
     "output_type": "execute_result"
    }
   ],
   "source": [
    "XGBmodel.fit(X_train, y_train_ec)"
   ]
  },
  {
   "cell_type": "code",
   "execution_count": 47,
   "metadata": {},
   "outputs": [
    {
     "name": "stdout",
     "output_type": "stream",
     "text": [
      "             precision    recall  f1-score   support\n",
      "\n",
      "          0       0.73      0.56      0.63        71\n",
      "          1       0.58      0.39      0.47       121\n",
      "          2       0.79      0.76      0.78       232\n",
      "          3       0.80      0.83      0.82       401\n",
      "          4       0.66      0.61      0.63       114\n",
      "          5       0.61      0.61      0.61       397\n",
      "          6       0.81      0.69      0.75       177\n",
      "          7       0.88      0.92      0.90       451\n",
      "          8       0.69      0.56      0.62       101\n",
      "          9       0.79      0.91      0.85      1176\n",
      "         10       0.92      0.68      0.78        79\n",
      "         11       0.82      0.72      0.77       214\n",
      "         12       0.85      0.75      0.80       125\n",
      "         13       0.92      0.93      0.92       966\n",
      "         14       0.82      0.77      0.79       124\n",
      "         15       0.58      0.43      0.50        74\n",
      "         16       0.73      0.79      0.76       648\n",
      "         17       0.71      0.49      0.58       149\n",
      "         18       0.79      0.79      0.79       231\n",
      "         19       0.70      0.59      0.64       124\n",
      "\n",
      "avg / total       0.79      0.79      0.79      5975\n",
      "\n"
     ]
    },
    {
     "name": "stderr",
     "output_type": "stream",
     "text": [
      "C:\\Users\\charl\\Anaconda3\\lib\\site-packages\\sklearn\\preprocessing\\label.py:151: DeprecationWarning: The truth value of an empty array is ambiguous. Returning False, but in future this will result in an error. Use `array.size > 0` to check that an array is not empty.\n",
      "  if diff:\n"
     ]
    }
   ],
   "source": [
    "y_pred = XGBmodel.predict(X_test)\n",
    "\n",
    "print(classification_report(y_true_ec, y_pred))"
   ]
  },
  {
   "cell_type": "code",
   "execution_count": null,
   "metadata": {},
   "outputs": [],
   "source": []
  }
 ],
 "metadata": {
  "kernelspec": {
   "display_name": "Python 3",
   "language": "python",
   "name": "python3"
  },
  "language_info": {
   "codemirror_mode": {
    "name": "ipython",
    "version": 3
   },
   "file_extension": ".py",
   "mimetype": "text/x-python",
   "name": "python",
   "nbconvert_exporter": "python",
   "pygments_lexer": "ipython3",
   "version": "3.6.5"
  }
 },
 "nbformat": 4,
 "nbformat_minor": 2
}
